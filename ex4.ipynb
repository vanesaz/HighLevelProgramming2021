{
 "cells": [
  {
   "cell_type": "markdown",
   "metadata": {},
   "source": [
    "1\\. Find the total mean, and the mean for each row and column of the following matrix:\n",
    "\n",
    "```python\n",
    "m = np.arange(12).reshape((3,4))\n",
    "```"
   ]
  },
  {
   "cell_type": "code",
   "execution_count": 1,
   "metadata": {},
   "outputs": [
    {
     "name": "stdout",
     "output_type": "stream",
     "text": [
      "[[ 0  1  2  3]\n",
      " [ 4  5  6  7]\n",
      " [ 8  9 10 11]]\n",
      "mean 5.5\n",
      "mean along the columns: [4. 5. 6. 7.]\n",
      "mean along the rows: [1.5 5.5 9.5]\n"
     ]
    }
   ],
   "source": [
    "import numpy as np\n",
    "m= np.arange(12).reshape((3,4))\n",
    "print(m)\n",
    "print(\"mean\", m.mean())\n",
    "print(\"mean along the columns:\", m.mean(axis=0))\n",
    "print(\"mean along the rows:\", m.mean(axis=1))"
   ]
  },
  {
   "cell_type": "markdown",
   "metadata": {},
   "source": [
    "2\\. Find the outer product of the following vectors:\n",
    "\n",
    "```python\n",
    "u = np.array([1, 3, 5, 7])\n",
    "v = np.array([2, 4, 6, 8])\n",
    "```\n",
    "\n",
    "Use different methods to do this:\n",
    "\n",
    "   1. Using the function `outer` in numpy\n",
    "   2. Using a nested `for` loop or a list comprehension\n",
    "   3. Using numpy broadcasting operations"
   ]
  },
  {
   "cell_type": "code",
   "execution_count": 2,
   "metadata": {},
   "outputs": [
    {
     "name": "stdout",
     "output_type": "stream",
     "text": [
      "[[ 2  4  6  8]\n",
      " [ 6 12 18 24]\n",
      " [10 20 30 40]\n",
      " [14 28 42 56]]\n",
      "[[ 2  4  6  8]\n",
      " [ 6 12 18 24]\n",
      " [10 20 30 40]\n",
      " [14 28 42 56]]\n",
      "[[ 2  4  6  8]\n",
      " [ 6 12 18 24]\n",
      " [10 20 30 40]\n",
      " [14 28 42 56]]\n"
     ]
    }
   ],
   "source": [
    "u = np.array([1, 3, 5, 7])\n",
    "v = np.array([2, 4, 6, 8])\n",
    "\n",
    "uv1= np.outer(u,v)\n",
    "print(uv1)\n",
    "uv2= (np.array([(i*v) for i in u ]))\n",
    "print(uv2)\n",
    "\n",
    "uv3= (np.array([(i*j) for i in u for j in v])).reshape(len(u),len(v))\n",
    "print(uv3)\n"
   ]
  },
  {
   "cell_type": "markdown",
   "metadata": {},
   "source": [
    "3\\. Create a 10 by 6 matrix of increasing float numbers, starting from zero and increasing in each step by 0.1, so the output matrix looks like the following:\n",
    "\n",
    "```python\n",
    "m = [[0. 0.1, 0.2 0.3 ... 0.9]\n",
    "     [1.0 1.1 1.2 1.3 ... 1.9]\n",
    "     ...\n",
    "     [5.0 5.1 5.2 5.3 ... 5.9]]\n",
    "```\n",
    "After creating the matrix, set all entries with a decimal part $< 0.4$ to zero."
   ]
  },
  {
   "cell_type": "code",
   "execution_count": 3,
   "metadata": {},
   "outputs": [
    {
     "name": "stdout",
     "output_type": "stream",
     "text": [
      "[[0.  0.  0.  0.  0.4 0.5 0.6 0.7 0.8 0.9]\n",
      " [0.  0.  0.  0.  1.4 1.5 1.6 1.7 1.8 1.9]\n",
      " [0.  0.  0.  0.  2.4 2.5 2.6 2.7 2.8 2.9]\n",
      " [0.  0.  0.  0.  3.4 3.5 3.6 3.7 3.8 3.9]\n",
      " [0.  0.  0.  0.  4.4 4.5 4.6 4.7 4.8 4.9]\n",
      " [0.  0.  0.  0.  5.4 5.5 5.6 5.7 5.8 5.9]]\n"
     ]
    }
   ],
   "source": [
    "\n",
    "m=np.array(list([(np.arange(float(x),float (x+1),float(0.1))) for x in range(6) ]))\n",
    "for i in range(len(m)):\n",
    "    for j in range(len(m[i])):\n",
    "        if((m[i][j]-i)< 0.39):\n",
    "            m[i][j]=0\n",
    "\n",
    "print(m)\n"
   ]
  },
  {
   "cell_type": "markdown",
   "metadata": {},
   "source": [
    "4\\. Use `np.linspace` to create an array of 100 numbers between 0 and 2π (inclusive).\n",
    "\n",
    "  * Extract every 10th element using the slice notation\n",
    "  * Reverse the array using the slice notation\n",
    "  * Extract elements where the absolute difference between the sin and cos functions evaluated for that element is $< 0.1$\n",
    "  * **Optional**: make a plot showing the sin and cos functions and indicate where they are close"
   ]
  },
  {
   "cell_type": "code",
   "execution_count": 4,
   "metadata": {},
   "outputs": [
    {
     "name": "stdout",
     "output_type": "stream",
     "text": [
      "[0.         0.03173326 0.06346652 0.09519978 0.12693304 0.1586663\n",
      " 0.19039955 0.22213281 0.25386607 0.28559933 0.31733259 0.34906585\n",
      " 0.38079911 0.41253237 0.44426563 0.47599889 0.50773215 0.53946541\n",
      " 0.57119866 0.60293192 0.63466518 0.66639844 0.6981317  0.72986496\n",
      " 0.76159822 0.79333148 0.82506474 0.856798   0.88853126 0.92026451\n",
      " 0.95199777 0.98373103 1.01546429 1.04719755 1.07893081 1.11066407\n",
      " 1.14239733 1.17413059 1.20586385 1.23759711 1.26933037 1.30106362\n",
      " 1.33279688 1.36453014 1.3962634  1.42799666 1.45972992 1.49146318\n",
      " 1.52319644 1.5549297  1.58666296 1.61839622 1.65012947 1.68186273\n",
      " 1.71359599 1.74532925 1.77706251 1.80879577 1.84052903 1.87226229\n",
      " 1.90399555 1.93572881 1.96746207 1.99919533 2.03092858 2.06266184\n",
      " 2.0943951  2.12612836 2.15786162 2.18959488 2.22132814 2.2530614\n",
      " 2.28479466 2.31652792 2.34826118 2.37999443 2.41172769 2.44346095\n",
      " 2.47519421 2.50692747 2.53866073 2.57039399 2.60212725 2.63386051\n",
      " 2.66559377 2.69732703 2.72906028 2.76079354 2.7925268  2.82426006\n",
      " 2.85599332 2.88772658 2.91945984 2.9511931  2.98292636 3.01465962\n",
      " 3.04639288 3.07812614 3.10985939 3.14159265]\n",
      "[0.28559933 0.60293192 0.92026451 1.23759711 1.5549297  1.87226229\n",
      " 2.18959488 2.50692747 2.82426006 3.14159265]\n",
      "[3.14159265 3.10985939 3.07812614 3.04639288 3.01465962 2.98292636\n",
      " 2.9511931  2.91945984 2.88772658 2.85599332 2.82426006 2.7925268\n",
      " 2.76079354 2.72906028 2.69732703 2.66559377 2.63386051 2.60212725\n",
      " 2.57039399 2.53866073 2.50692747 2.47519421 2.44346095 2.41172769\n",
      " 2.37999443 2.34826118 2.31652792 2.28479466 2.2530614  2.22132814\n",
      " 2.18959488 2.15786162 2.12612836 2.0943951  2.06266184 2.03092858\n",
      " 1.99919533 1.96746207 1.93572881 1.90399555 1.87226229 1.84052903\n",
      " 1.80879577 1.77706251 1.74532925 1.71359599 1.68186273 1.65012947\n",
      " 1.61839622 1.58666296 1.5549297  1.52319644 1.49146318 1.45972992\n",
      " 1.42799666 1.3962634  1.36453014 1.33279688 1.30106362 1.26933037\n",
      " 1.23759711 1.20586385 1.17413059 1.14239733 1.11066407 1.07893081\n",
      " 1.04719755 1.01546429 0.98373103 0.95199777 0.92026451 0.88853126\n",
      " 0.856798   0.82506474 0.79333148 0.76159822 0.72986496 0.6981317\n",
      " 0.66639844 0.63466518 0.60293192 0.57119866 0.53946541 0.50773215\n",
      " 0.47599889 0.44426563 0.41253237 0.38079911 0.34906585 0.31733259\n",
      " 0.28559933 0.25386607 0.22213281 0.19039955 0.1586663  0.12693304\n",
      " 0.09519978 0.06346652 0.03173326 0.        ]\n",
      "[0.7298649599249014, 0.7615982190520711, 0.7933314781792408, 0.8250647373064104]\n"
     ]
    },
    {
     "data": {
      "image/png": "[encoded data removed]",
      "text/plain": [
       "<Figure size 432x288 with 1 Axes>"
      ]
     },
     "metadata": {
      "needs_background": "light"
     },
     "output_type": "display_data"
    }
   ],
   "source": [
    "import math as mt\n",
    "\n",
    "m=np.linspace(0,mt.pi,100)\n",
    "print(m)\n",
    "#1\n",
    "m1=m[9::10]\n",
    "print(m1)\n",
    "#2\n",
    "m2= m[99::-1]\n",
    "print(m2)\n",
    "#3\n",
    "m3=list([m[i] for i in range(99) if(abs(np.sin(m[i]) - np.cos(m[i]))<0.1)])\n",
    "print(m3)\n",
    "#4\n",
    "import matplotlib.pyplot as p\n",
    "x=np.linspace(0,mt.pi,100)\n",
    "y1= np.sin(x)\n",
    "y2= np.cos(x)\n",
    "y3=np.sin(x)- np.cos(x)\n",
    "p.plot(x,y3)\n",
    "#p.plot(x,y2)\n",
    "p.grid()\n",
    "p.show()\n"
   ]
  },
  {
   "cell_type": "markdown",
   "metadata": {},
   "source": [
    "5\\. Create a matrix that shows the 10 by 10 multiplication table.\n",
    "\n",
    " * Find the trace of the matrix\n",
    " * Extract the anti-diagonal matrix (this should be ```array([10, 18, 24, 28, 30, 30, 28, 24, 18, 10])```)\n",
    " * Extract the diagonal offset by 1 upwards (this should be ```array([ 2,  6, 12, 20, 30, 42, 56, 72, 90])```)"
   ]
  },
  {
   "cell_type": "code",
   "execution_count": 5,
   "metadata": {},
   "outputs": [
    {
     "name": "stdout",
     "output_type": "stream",
     "text": [
      "[[  1   2   3   4   5   6   7   8   9  10]\n",
      " [  2   4   6   8  10  12  14  16  18  20]\n",
      " [  3   6   9  12  15  18  21  24  27  30]\n",
      " [  4   8  12  16  20  24  28  32  36  40]\n",
      " [  5  10  15  20  25  30  35  40  45  50]\n",
      " [  6  12  18  24  30  36  42  48  54  60]\n",
      " [  7  14  21  28  35  42  49  56  63  70]\n",
      " [  8  16  24  32  40  48  56  64  72  80]\n",
      " [  9  18  27  36  45  54  63  72  81  90]\n",
      " [ 10  20  30  40  50  60  70  80  90 100]]\n",
      "385\n",
      "[10, 18, 24, 28, 30, 30, 28, 24, 18, 10]\n",
      "[6, 12, 20, 30, 42, 56, 72, 90]\n"
     ]
    }
   ],
   "source": [
    "#1\n",
    "n= np.arange(1,11)\n",
    "m= (np.array([(i*n) for i in n ]))\n",
    "print(m)\n",
    "s=0\n",
    "for i in range(10):\n",
    "    s=s + m[i][i]\n",
    "    \n",
    "print(s)   \n",
    "\n",
    "#2\n",
    "a= list([(m[i][9-i]) for i in range(10) ])\n",
    "print (a)\n",
    "\n",
    "#3\n",
    "\n",
    "b= list([(m[i][i+1]) for i in range(1,9)])\n",
    "print(b)"
   ]
  },
  {
   "cell_type": "markdown",
   "metadata": {},
   "source": [
    "6\\. Use broadcasting to create a grid of distances.\n",
    "\n",
    "Route 66 crosses the following cities in the US: Chicago, Springfield, Saint-Louis, Tulsa, Oklahoma City, Amarillo, Santa Fe, Albuquerque, Flagstaff, Los Angeles\n",
    "The corresponding positions in miles are: 0, 198, 303, 736, 871, 1175, 1475, 1544, 1913, 2448\n",
    "\n",
    "  * Build a 2D grid of distances among each city along Route 66\n",
    "  * Convert the distances in km"
   ]
  },
  {
   "cell_type": "code",
   "execution_count": 6,
   "metadata": {},
   "outputs": [
    {
     "name": "stdout",
     "output_type": "stream",
     "text": [
      "[[b'Chicago' b'0.0']\n",
      " [b'Springfield' b'318.64932']\n",
      " [b'Saint-Louis' b'487.63002']\n",
      " [b'Tulsa' b'1184.47424']\n",
      " [b'Oklahoma City' b'1401.73514']\n",
      " [b'Amarillo' b'1890.9745']\n",
      " [b'Santa Fe' b'2373.7765']\n",
      " [b'Albuquerque' b'2484.82096']\n",
      " [b'Flagstaff' b'3078.6674199999998']\n",
      " [b'Los Angeles' b'3939.66432']]\n"
     ]
    }
   ],
   "source": [
    "#1 #2\n",
    "n=np.zeros((10, 2), '|S20')\n",
    "m= np.array(['Chicago', 'Springfield', 'Saint-Louis', 'Tulsa', 'Oklahoma City', 'Amarillo', 'Santa Fe', 'Albuquerque', 'Flagstaff', 'Los Angeles',0, 198, 303, 736, 871, 1175, 1475, 1544, 1913, 2448])\n",
    "n[0::,0]= m[0:10]\n",
    "n[0::,1]= m[10:20]\n",
    "t=np.array(n[0::,1], 'uint32')\n",
    "n[0::,1]= t*1.60934\n",
    "print(n)"
   ]
  },
  {
   "cell_type": "markdown",
   "metadata": {},
   "source": [
    "7\\. Prime numbers sieve: compute the prime numbers in the 0-N (start with N=99) range with a sieve (mask).\n",
    "  * Check the performances (timeit); how does it scale with N?\n",
    "  * Implement the optimization suggested in the [sieve of Eratosthenes](https://en.wikipedia.org/wiki/Sieve_of_Eratosthenes)"
   ]
  },
  {
   "cell_type": "code",
   "execution_count": null,
   "metadata": {},
   "outputs": [],
   "source": [
    "from sympy import * \n",
    "m= np.arange(0,100,1)\n",
    "def mask(m):\n",
    "    l1=[]\n",
    "    for i in range(2,100):\n",
    "        if isprime(m[i]) == True:\n",
    "            l1.append(m[i])\n",
    "    return l1        \n",
    "%timeit (mask(m))\n",
    "m1= np.arange(0,200,1)\n",
    "%timeit (mask(m1))\n",
    "def SieveOfEratosthenes(n):\n",
    "    l1=[]\n",
    "    prime = [True for i in range(n + 1)]\n",
    "    p = 2\n",
    "    while (p * p <= n):\n",
    "        if (prime[p] == True):\n",
    "            for i in range(p ** 2, n + 1, p):\n",
    "                prime[i] = False\n",
    "        p += 1\n",
    "    prime[0]= False\n",
    "    prime[1]= False\n",
    "    for p in range(n + 1):\n",
    "        if prime[p]:\n",
    "            l1.append(p)\n",
    "    return l1        \n",
    "            \n",
    "%timeit (SieveOfEratosthenes(100))\n",
    "%timeit (SieveOfEratosthenes(200))\n"
   ]
  }
 ],
 "metadata": {
  "kernelspec": {
   "display_name": "Python 3",
   "language": "python",
   "name": "python3"
  },
  "language_info": {
   "codemirror_mode": {
    "name": "ipython",
    "version": 3
   },
   "file_extension": ".py",
   "mimetype": "text/x-python",
   "name": "python",
   "nbconvert_exporter": "python",
   "pygments_lexer": "ipython3",
   "version": "3.8.8"
  }
 },
 "nbformat": 4,
 "nbformat_minor": 2
}
