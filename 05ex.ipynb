{
 "cells": [
  {
   "cell_type": "markdown",
   "metadata": {},
   "source": [
    "This exercise consists in analyzing a dataset containg timing information from a series of Time-to-Digital-Converters (TDC) implemented in a pair of FPGAs. Each measurement (i.e. each row of the input file) consists of a flag that specifies the type of message ('HEAD', which in this case is always 1), two addresses of the TDC providing the signal ('FPGA' and 'TDC_CHANNEL'), and the timing information ('ORBIT_CNT', 'BX_COUNTER', and 'TDC_MEAS'). Each TDC count corresponds to 25/30 ns, whereas a unit of BX_COUNTER corresponds to 25 ns, and the ORBIT_CNT is increased every 'x' BX_COUNTER. This allows to store the time in a similar way to hours, minutes and seconds."
   ]
  },
  {
   "cell_type": "code",
   "execution_count": null,
   "metadata": {},
   "outputs": [],
   "source": [
    "# If haven't downloaded it yet, please get the data file with wget\n",
    "#!wget https://www.dropbox.com/s/xvjzaxzz3ysphme/data_000637.txt -P ./data/"
   ]
  },
  {
   "cell_type": "markdown",
   "metadata": {},
   "source": [
    "1\\. Create a Pandas DataFrame reading N rows of the `data/data_000637.txt` dataset. Choose N to be smaller than or equal to the maximum number of rows and larger that 10k (check the documentation)."
   ]
  },
  {
   "cell_type": "code",
   "execution_count": 2,
   "metadata": {},
   "outputs": [
    {
     "name": "stdout",
     "output_type": "stream",
     "text": [
      "       HEAD  FPGA  TDC_CHANNEL   ORBIT_CNT  BX_COUNTER  TDC_MEAS\n",
      "0         1     0          123  3869200167        2374        26\n",
      "1         1     0          124  3869200167        2374        27\n",
      "2         1     0           63  3869200167        2553        28\n",
      "3         1     0           64  3869200167        2558        19\n",
      "4         1     0           64  3869200167        2760        25\n",
      "...     ...   ...          ...         ...         ...       ...\n",
      "9996      1     0           60  3869200267         701         5\n",
      "9997      1     0           59  3869200267         707        23\n",
      "9998      1     0           63  3869200267         706        15\n",
      "9999      1     0           49  3869200267         777        13\n",
      "10000     1     0           50  3869200267         776        22\n",
      "\n",
      "[10001 rows x 6 columns]\n"
     ]
    }
   ],
   "source": [
    "import pandas as pd\n",
    "\n",
    "df = pd.read_csv(\"C:/Users/Vanesa/Downloads/data_000637.txt\")\n",
    "df1= df[0:10001]\n",
    "print(df1)"
   ]
  },
  {
   "cell_type": "markdown",
   "metadata": {},
   "source": [
    "2\\. Estimate the number of BX in a ORBIT (the value 'x')."
   ]
  },
  {
   "cell_type": "code",
   "execution_count": 3,
   "metadata": {},
   "outputs": [
    {
     "name": "stdout",
     "output_type": "stream",
     "text": [
      "3563\n"
     ]
    }
   ],
   "source": [
    "x=3869200167\n",
    "column1= df['BX_COUNTER']\n",
    "max_value= column1.max()\n",
    "print(max_value)\n",
    "nr_BX= max_value+1"
   ]
  },
  {
   "cell_type": "markdown",
   "metadata": {},
   "source": [
    "3\\. Find out the duration of the data taking in hours, minutes and seconds. You can either make an estimate based on the fraction of the measurements (rows) you read, or perform this check precisely by reading the whole dataset."
   ]
  },
  {
   "cell_type": "code",
   "execution_count": 4,
   "metadata": {},
   "outputs": [
    {
     "name": "stdout",
     "output_type": "stream",
     "text": [
      "1411 33 50\n"
     ]
    }
   ],
   "source": [
    "import datetime as datetime\n",
    "c1= df['TDC_MEAS']\n",
    "c2= df['BX_COUNTER']\n",
    "c3= df['ORBIT_CNT']\n",
    "s1=c1.sum()\n",
    "s2= c2.sum() + s1*30\n",
    "s3= c3.sum() + s2*3563\n",
    "hours=s3//(1000000000*3600)\n",
    "minutes= (s3-(hours*3600*1000000000))//(60*1000000000)\n",
    "seconds= (s3-(hours*3600*1000000000)-(minutes*60*1000000000))//1000000000\n",
    "\n",
    "print(hours,minutes, seconds)"
   ]
  },
  {
   "cell_type": "markdown",
   "metadata": {},
   "source": [
    "4\\. Create a new column with the absolute time in ns (as a combination of the other three columns with timing information) since the beginning of the data acquisition."
   ]
  },
  {
   "cell_type": "code",
   "execution_count": 10,
   "metadata": {},
   "outputs": [
    {
     "name": "stdout",
     "output_type": "stream",
     "text": [
      "         HEAD  FPGA  TDC_CHANNEL   ORBIT_CNT  BX_COUNTER  TDC_MEAS  \\\n",
      "0           1     0          123  3869200167        2374        26   \n",
      "1           1     0          124  3869200167        2374        27   \n",
      "2           1     0           63  3869200167        2553        28   \n",
      "3           1     0           64  3869200167        2558        19   \n",
      "4           1     0           64  3869200167        2760        25   \n",
      "...       ...   ...          ...         ...         ...       ...   \n",
      "1310715     1     0           62  3869211171         762        14   \n",
      "1310716     1     1            4  3869211171         763        11   \n",
      "1310717     1     0           64  3869211171         764         0   \n",
      "1310718     1     0          139  3869211171         769         0   \n",
      "1310719     1     0           61  3869211171         762        18   \n",
      "\n",
      "                 Abs time  \n",
      "0        5081630475520693  \n",
      "1        5081630475520693  \n",
      "2        5081630475520693  \n",
      "3        5081630475520693  \n",
      "4        5081630475520693  \n",
      "...                   ...  \n",
      "1310715  5081630475520693  \n",
      "1310716  5081630475520693  \n",
      "1310717  5081630475520693  \n",
      "1310718  5081630475520693  \n",
      "1310719  5081630475520693  \n",
      "\n",
      "[1310720 rows x 7 columns]\n"
     ]
    }
   ],
   "source": [
    "\n",
    "df['Abs time'] = pd.Series(s3, index=df.index)\n",
    "print(df)"
   ]
  },
  {
   "cell_type": "markdown",
   "metadata": {},
   "source": [
    "5\\. Use the `.groupby()` method to find out the noisy channels, i.e. the TDC channels with most counts (print to screen the top 3 and the corresponding counts)"
   ]
  },
  {
   "cell_type": "code",
   "execution_count": 12,
   "metadata": {},
   "outputs": [
    {
     "name": "stdout",
     "output_type": "stream",
     "text": [
      "Int64Index([  1,   2,   3,   4,   5,   6,   7,   8,   9,  10,\n",
      "            ...\n",
      "            124, 125, 126, 127, 128, 129, 130, 137, 138, 139],\n",
      "           dtype='int64', name='TDC_CHANNEL', length=133)\n",
      "TDC_CHANNEL\n",
      "139    108059\n",
      "64      66020\n",
      "63      64642\n",
      "Name: ORBIT_CNT, dtype: int64\n"
     ]
    }
   ],
   "source": [
    "g1=df.groupby(\"TDC_CHANNEL\")[\"ORBIT_CNT\"].count()\n",
    "print (g1.keys())\n",
    "print(g1.sort_values(ascending=False, axis=0)[0:3])"
   ]
  },
  {
   "cell_type": "markdown",
   "metadata": {},
   "source": [
    "6\\. Count the number of non-empty orbits (i.e. the number of orbits with at least one hit). Count also the number of unique orbits with at least one measurement from TDC_CHANNEL=139."
   ]
  },
  {
   "cell_type": "code",
   "execution_count": 13,
   "metadata": {},
   "outputs": [
    {
     "name": "stdout",
     "output_type": "stream",
     "text": [
      "ORBIT_CNT\n",
      "3869200167     43\n",
      "3869200168     85\n",
      "3869200169    127\n",
      "3869200170     98\n",
      "3869200171    109\n",
      "             ... \n",
      "3869211167    208\n",
      "3869211168    109\n",
      "3869211169    191\n",
      "3869211170    137\n",
      "3869211171     22\n",
      "Name: ORBIT_CNT, Length: 11001, dtype: int64\n",
      "11001\n",
      "10976\n"
     ]
    }
   ],
   "source": [
    "g1=df.groupby(\"ORBIT_CNT\")[\"ORBIT_CNT\"].count()\n",
    "print(g1)\n",
    "print(g1.count())\n",
    "\n",
    "h=df[df['TDC_CHANNEL'] == 139]\n",
    "g2=h.groupby(\"ORBIT_CNT\")[\"ORBIT_CNT\"].count()\n",
    "print(g2.count())"
   ]
  },
  {
   "cell_type": "markdown",
   "metadata": {},
   "source": [
    "7\\. **Optional:** Make two occupancy plots (one for each FPGA), i.e. plot the number of counts per TDC channel"
   ]
  },
  {
   "cell_type": "code",
   "execution_count": 16,
   "metadata": {},
   "outputs": [
    {
     "data": {
      "image/png": "[encoded data removed]",
      "text/plain": [
       "<Figure size 432x288 with 1 Axes>"
      ]
     },
     "metadata": {
      "needs_background": "light"
     },
     "output_type": "display_data"
    },
    {
     "data": {
      "image/png": "[encoded data removed]",
      "text/plain": [
       "<Figure size 432x288 with 1 Axes>"
      ]
     },
     "metadata": {
      "needs_background": "light"
     },
     "output_type": "display_data"
    }
   ],
   "source": [
    "#1. \n",
    "import matplotlib.pyplot  as p\n",
    "g1=df.groupby(\"TDC_CHANNEL\")[\"ORBIT_CNT\"].count()\n",
    "\n",
    "x1=g1.keys()\n",
    "\n",
    "\n",
    "y1=[]\n",
    "for i in x1:\n",
    "    y1.append(g1[i])    \n",
    "p.plot(x1,y1)\n",
    "p.grid()\n",
    "p.show()\n",
    "\n",
    "\n",
    "#2.\n",
    "g2=df.groupby(\"FPGA\")[\"ORBIT_CNT\"].count()\n",
    "\n",
    "x2=g2.keys()\n",
    "\n",
    "\n",
    "y2=[]\n",
    "for i in x2:\n",
    "    y2.append(g2[i])    \n",
    "p.plot(x2,y2)\n",
    "p.grid()\n",
    "p.show()"
   ]
  },
  {
   "cell_type": "code",
   "execution_count": null,
   "metadata": {},
   "outputs": [],
   "source": []
  }
 ],
 "metadata": {
  "kernelspec": {
   "display_name": "Python 3",
   "language": "python",
   "name": "python3"
  },
  "language_info": {
   "codemirror_mode": {
    "name": "ipython",
    "version": 3
   },
   "file_extension": ".py",
   "mimetype": "text/x-python",
   "name": "python",
   "nbconvert_exporter": "python",
   "pygments_lexer": "ipython3",
   "version": "3.8.8"
  }
 },
 "nbformat": 4,
 "nbformat_minor": 2
}
