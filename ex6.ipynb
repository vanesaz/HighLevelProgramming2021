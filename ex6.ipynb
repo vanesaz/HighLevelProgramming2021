{
 "cells": [
  {
   "cell_type": "code",
   "execution_count": 5,
   "metadata": {},
   "outputs": [],
   "source": [
    "import pandas as pd\n",
    "import numpy as np"
   ]
  },
  {
   "cell_type": "markdown",
   "metadata": {},
   "source": [
    "1\\. Perform the following operations on plain `txt` files:\n",
    "\n",
    "+ create a list of integrer numbers and then save it to a text file named \"data_int.txt\". Run the `cat` command to print the content of the file.\n",
    "+ create a matrix of 5x5 floats and then save it to a text file named \"data_float.txt\". Use the `cat` command to print the content of the file.\n",
    "+ load the txt file of the previous point and convert it to a csv file by hand."
   ]
  },
  {
   "cell_type": "code",
   "execution_count": 1,
   "metadata": {},
   "outputs": [
    {
     "name": "stdout",
     "output_type": "stream",
     "text": [
      "012345678910111213141516171819012345678910111213141516171819012345678910111213141516171819012345678910111213141516171819012345678910111213141516171819012345678910111213141516171819012345678910111213141516171819012345678910111213141516171819012345678910111213141516171819012345678910111213141516171819012345678910111213141516171819012345678910111213141516171819012345678910111213141516171819012345678910111213141516171819012345678910111213141516171819012345678910111213141516171819012345678910111213141516171819\n",
      "[0. 1. 2. 3. 4.][5. 6. 7. 8. 9.][10. 11. 12. 13. 14.][15. 16. 17. 18. 19.][20. 21. 22. 23. 24.][0. 1. 2. 3. 4.][5. 6. 7. 8. 9.][10. 11. 12. 13. 14.][15. 16. 17. 18. 19.][20. 21. 22. 23. 24.][0. 1. 2. 3. 4.][5. 6. 7. 8. 9.][10. 11. 12. 13. 14.][15. 16. 17. 18. 19.][20. 21. 22. 23. 24.][0. 1. 2. 3. 4.][5. 6. 7. 8. 9.][10. 11. 12. 13. 14.][15. 16. 17. 18. 19.][20. 21. 22. 23. 24.]\n",
      "0.,1.,2.,3.,4.5.,6.,7.,8.,9.10.,11.,12.,13.,14.15.,16.,17.,18.,19.20.,21.,22.,23.,24.0.,1.,2.,3.,4.5.,6.,7.,8.,9.10.,11.,12.,13.,14.15.,16.,17.,18.,19.20.,21.,22.,23.,24.0.,1.,2.,3.,4.5.,6.,7.,8.,9.10.,11.,12.,13.,14.15.,16.,17.,18.,19.20.,21.,22.,23.,24.0.,1.,2.,3.,4.5.,6.,7.,8.,9.10.,11.,12.,13.,14.15.,16.,17.,18.,19.20.,21.,22.,23.,24.,\n"
     ]
    }
   ],
   "source": [
    "import pandas as pd\n",
    "import numpy as np\n",
    "import json\n",
    "import csv\n",
    "import os\n",
    "#1. Perform the following operations on plain txt files:\n",
    "\n",
    "#create a list of integrer numbers and then save it to a text file named \"data_int.txt\". \n",
    "#Run the cat command to print the content of the file.\n",
    "#create a matrix of 5x5 floats and then save it to a text file named \"data_float.txt\". \n",
    "#Use the cat command to print the content of the file.\n",
    "#load the txt file of the previous point and convert it to a csv file by hand.\n",
    "out_file_name1= \"data_int.txt\"\n",
    "\n",
    "l = np.arange(20)\n",
    "with open(out_file_name1, 'a') as outfile:\n",
    "    for n in l:\n",
    "        outfile.write(str(n))\n",
    "!type data_int.txt\n",
    "\n",
    "m= np.arange(25.0).reshape(5,5)\n",
    "out_file_name2= \"data_float.txt\"\n",
    "\n",
    "with open(out_file_name2, 'a') as outfile:\n",
    "    for n in m:\n",
    "        outfile.write(str(n))\n",
    "!type data_float.txt\n",
    "characters=['[', ']']\n",
    "with open(\"data_float.csv\", \"w\") as output:\n",
    "    with open(\"data_float.txt\", \"r\") as input_data:\n",
    "        for row in input_data:\n",
    "            for character in characters:\n",
    "                row = row.replace(character, \"\")\n",
    "            for i in range(len(row.split())):\n",
    "                output.write(str(row.split()[i]) + \",\")\n",
    "            output.write(\"\\n\")\n",
    "!type data_float.csv"
   ]
  },
  {
   "cell_type": "markdown",
   "metadata": {},
   "source": [
    "2\\. Load the file *user_data.json*, which can be found at:\n",
    "\n",
    "- https://www.dropbox.com/s/sz5klcdpckc39hd/user_data.json\n",
    "\n",
    "and filter the data by the \"CreditCardType\" when it equals to \"American Express\". Than save the data to a new CSV file."
   ]
  },
  {
   "cell_type": "code",
   "execution_count": 2,
   "metadata": {},
   "outputs": [
    {
     "name": "stdout",
     "output_type": "stream",
     "text": [
      "2,Investment  Advisor,Clint_Thorpe5003@bulaffy.com,Clint Thorpe,7083-8766-0251-2345,American Express\n",
      "12,Retail Trainee,Phillip_Carpenter9505@famism.biz,Phillip Carpenter,3657-0088-0820-5247,American Express\n",
      "28,Project Manager,Russel_Graves1378@extex.org,Russel Graves,6718-4818-8011-6024,American Express\n",
      "39,Stockbroker,Leanne_Newton1268@typill.biz,Leanne Newton,5438-0816-4166-4847,American Express\n",
      "57,Budget Analyst,Tony_Giles1960@iatim.tech,Tony Giles,8130-3425-7573-7745,American Express\n",
      "62,CNC Operator,Owen_Allcott5125@bauros.biz,Owen Allcott,4156-0107-7210-2630,American Express\n",
      "68,Project Manager,Liam_Lynn3280@kideod.biz,Liam Lynn,7152-3247-6053-2233,American Express\n",
      "74,Dentist,Regina_Woodcock5820@yahoo.com,Regina Woodcock,0208-1753-3870-8002,American Express\n",
      "81,HR Specialist,Carter_Wallace9614@atink.com,Carter Wallace,4256-7201-6717-4322,American Express\n",
      "92,Staffing Consultant,Maia_Stark2797@jiman.org,Maia Stark,3851-1403-1734-6321,American Express\n",
      "97,Stockbroker,Ciara_Lomax982@bauros.biz,Ciara Lomax,3702-3440-2472-5424,American Express\n",
      "116,Staffing Consultant,Isabel_Ellwood1475@fuliss.net,Isabel Ellwood,3738-0882-0066-6683,American Express\n",
      "148,CNC Operator,Abdul_Townend2202@infotech44.tech,Abdul Townend,4224-1226-3557-3448,American Express\n",
      "150,Fabricator,Caleb_Poulton1735@atink.com,Caleb Poulton,8203-6875-5225-0341,American Express\n",
      "151,Restaurant Manager,Ronald_Lewis6777@deavo.com,Ronald Lewis,7212-0155-5014-8471,American Express\n",
      "154,Bellman,Faith_Seymour3829@twace.org,Faith Seymour,4170-5186-6887-6558,American Express\n",
      "169,Assistant Buyer,Anthony_Hancock9083@qater.org,Anthony Hancock,0832-3357-6010-6550,American Express\n",
      "176,Healthcare Specialist,Isabella_Willson5478@nanoff.biz,Isabella Willson,5177-4868-4623-0384,American Express\n",
      "182,Pharmacist,Stephanie_Darcy3298@bauros.biz,Stephanie Darcy,0264-4020-5106-5576,American Express\n",
      "199,Investment  Advisor,Ryan_Kennedy5565@corti.com,Ryan Kennedy,3166-6287-6242-7207,American Express\n"
     ]
    }
   ],
   "source": [
    "#2\n",
    "data = json.load(open('user_data.json'))\n",
    "with open(\"user_data.csv\", mode = 'w') as outfile:\n",
    "    for user in data:\n",
    "        if user['CreditCardType'] == \"American Express\":\n",
    "            outfile.write(user[\"ID\"] + ',' + user[\"JobTitle\"] + ',' + user[\"EmailAddress\"] + ',' + user[\"FirstNameLastName\"] + ',' + user[\"CreditCard\"] + ',' + user[\"CreditCardType\"] + '\\n' )\n",
    "!type user_data.csv"
   ]
  },
  {
   "cell_type": "markdown",
   "metadata": {},
   "source": [
    "3\\. Load the file from this url:\n",
    "\n",
    "- https://www.dropbox.com/s/kgshemfgk22iy79/mushrooms_categorized.csv\n",
    "\n",
    "with Pandas. \n",
    "\n",
    "+ explore and print the DataFrame\n",
    "+ calculate, using `groupby()`, the average value of each feature, separately for each class\n",
    "+ save the file in a JSON format."
   ]
  },
  {
   "cell_type": "code",
   "execution_count": 3,
   "metadata": {},
   "outputs": [
    {
     "name": "stdout",
     "output_type": "stream",
     "text": [
      "      class  cap-shape  cap-surface  cap-color  bruises  odor  \\\n",
      "0         1          5            2          4        1     6   \n",
      "1         0          5            2          9        1     0   \n",
      "2         0          0            2          8        1     3   \n",
      "3         1          5            3          8        1     6   \n",
      "4         0          5            2          3        0     5   \n",
      "...     ...        ...          ...        ...      ...   ...   \n",
      "8119      0          3            2          4        0     5   \n",
      "8120      0          5            2          4        0     5   \n",
      "8121      0          2            2          4        0     5   \n",
      "8122      1          3            3          4        0     8   \n",
      "8123      0          5            2          4        0     5   \n",
      "\n",
      "      gill-attachment  gill-spacing  gill-size  gill-color  ...  \\\n",
      "0                   1             0          1           4  ...   \n",
      "1                   1             0          0           4  ...   \n",
      "2                   1             0          0           5  ...   \n",
      "3                   1             0          1           5  ...   \n",
      "4                   1             1          0           4  ...   \n",
      "...               ...           ...        ...         ...  ...   \n",
      "8119                0             0          0          11  ...   \n",
      "8120                0             0          0          11  ...   \n",
      "8121                0             0          0           5  ...   \n",
      "8122                1             0          1           0  ...   \n",
      "8123                0             0          0          11  ...   \n",
      "\n",
      "      stalk-surface-below-ring  stalk-color-above-ring  \\\n",
      "0                            2                       7   \n",
      "1                            2                       7   \n",
      "2                            2                       7   \n",
      "3                            2                       7   \n",
      "4                            2                       7   \n",
      "...                        ...                     ...   \n",
      "8119                         2                       5   \n",
      "8120                         2                       5   \n",
      "8121                         2                       5   \n",
      "8122                         1                       7   \n",
      "8123                         2                       5   \n",
      "\n",
      "      stalk-color-below-ring  veil-type  veil-color  ring-number  ring-type  \\\n",
      "0                          7          0           2            1          4   \n",
      "1                          7          0           2            1          4   \n",
      "2                          7          0           2            1          4   \n",
      "3                          7          0           2            1          4   \n",
      "4                          7          0           2            1          0   \n",
      "...                      ...        ...         ...          ...        ...   \n",
      "8119                       5          0           1            1          4   \n",
      "8120                       5          0           0            1          4   \n",
      "8121                       5          0           1            1          4   \n",
      "8122                       7          0           2            1          0   \n",
      "8123                       5          0           1            1          4   \n",
      "\n",
      "      spore-print-color  population  habitat  \n",
      "0                     2           3        5  \n",
      "1                     3           2        1  \n",
      "2                     3           2        3  \n",
      "3                     2           3        5  \n",
      "4                     3           0        1  \n",
      "...                 ...         ...      ...  \n",
      "8119                  0           1        2  \n",
      "8120                  0           4        2  \n",
      "8121                  0           1        2  \n",
      "8122                  7           4        2  \n",
      "8123                  4           1        2  \n",
      "\n",
      "[8124 rows x 23 columns]\n",
      "       cap-shape  cap-surface  cap-color   bruises      odor  gill-attachment  \\\n",
      "class                                                                           \n",
      "0       3.266160     1.615970   4.581749  0.653992  4.334601         0.954373   \n",
      "1       3.436159     2.055158   4.421859  0.159346  3.940756         0.995403   \n",
      "\n",
      "       gill-spacing  gill-size  gill-color  stalk-shape  ...  \\\n",
      "class                                                    ...   \n",
      "0          0.285171   0.068441    6.622624     0.615970  ...   \n",
      "1          0.028601   0.567926    2.863636     0.514811  ...   \n",
      "\n",
      "       stalk-surface-below-ring  stalk-color-above-ring  \\\n",
      "class                                                     \n",
      "0                      1.798479                6.098859   \n",
      "1                      1.394280                5.512768   \n",
      "\n",
      "       stalk-color-below-ring  veil-type  veil-color  ring-number  ring-type  \\\n",
      "class                                                                          \n",
      "0                    6.064639        0.0    1.931559     1.125475   3.007605   \n",
      "1                    5.504597        0.0    2.002043     1.009193   1.522983   \n",
      "\n",
      "       spore-print-color  population   habitat  \n",
      "class                                           \n",
      "0               3.201521    3.283270  1.148289  \n",
      "1               4.021450    4.031665  1.895812  \n",
      "\n",
      "[2 rows x 22 columns]\n"
     ]
    },
    {
     "name": "stderr",
     "output_type": "stream",
     "text": [
      "The system cannot find the file specified.\n"
     ]
    }
   ],
   "source": [
    "#3\n",
    "#explore and print the DataFrame\n",
    "#calculate, using groupby(), the average value of each feature, separately for each class\n",
    "#save the file in a JSON format.\n",
    "\n",
    "data1 = pd.read_csv('mushrooms_categorized.csv')\n",
    "df= pd.DataFrame(data1)\n",
    "print(df)\n",
    "mean=data1.groupby('class').mean()\n",
    "print(mean)\n",
    "p=df.to_json(\"mushrooms_categorized.json\")\n",
    "!type p\n"
   ]
  },
  {
   "cell_type": "markdown",
   "metadata": {},
   "source": [
    "4\\. Get the binary file named *credit_card.dat* from this address:\n",
    "\n",
    "- https://www.dropbox.com/s/8m0syw2tkul3dap/credit_card.dat\n",
    "\n",
    "and convert the data into the real credit card number, knowing that:\n",
    "- each line corresponds to a credit card number, which consists of 16 characters (which are numbers in the 0-9 range) divided in 4 blocks, with a whitespace between each block\n",
    "- each character is written using a 6 bit binary representation (including the whitespace)\n",
    "- the final 4 bits of each line are a padding used to determine the end of the line, and can be ignored\n",
    "\n",
    "*Hint*: convert the binary numbers to the decimal representation first, and then use the `chr()` function to convert the latter to a char"
   ]
  },
  {
   "cell_type": "code",
   "execution_count": 8,
   "metadata": {},
   "outputs": [
    {
     "name": "stdout",
     "output_type": "stream",
     "text": [
      "7648 5673 3775 2271\n",
      "3257 8247 3354 2266\n",
      "2722 0001 4011 6652\n",
      "0661 3063 3742 3150\n",
      "0432 1608 1462 4742\n",
      "5827 2027 8785 7303\n",
      "5774 8528 2087 1117\n",
      "8140 1210 6352 2845\n",
      "5764 1133 7301 7100\n",
      "6456 1737 4126 6726\n",
      "1228 8631 7382 0000\n",
      "7051 0160 5374 3166\n",
      "0618 3587 1630 6376\n",
      "1545 5454 7444 5636\n",
      "6735 3116 3202 6834\n",
      "7287 5011 1547 8413\n",
      "7033 2607 3328 4200\n",
      "2568 5244 1874 5024\n",
      "1684 2253 7570 7118\n",
      "0672 2576 0575 6631\n",
      "6332 8353 8787 1340\n",
      "1813 3361 1175 4211\n",
      "2477 6450 8840 2368\n",
      "5512 3505 2563 1326\n",
      "3083 7882 0621 0025\n",
      "4521 5148 8045 0334\n",
      "7563 3654 8713 5787\n",
      "8324 2664 0476 5561\n",
      "0565 2504 7168 3510\n",
      "5107 5507 1767 0738\n",
      "2462 1821 2448 1443\n",
      "2788 0638 6861 6554\n",
      "5851 5873 5474 0547\n",
      "0670 1004 4013 2655\n",
      "5874 5506 3048 0806\n",
      "2805 5401 8462 1260\n",
      "5083 8406 6310 1862\n",
      "1076 1445 3013 2266\n",
      "8440 4804 4844 5277\n",
      "4758 6141 0686 1387\n",
      "7586 0675 0315 2568\n",
      "2544 1258 7432 5165\n",
      "3474 5023 4434 5626\n",
      "1410 0270 0434 5086\n",
      "7315 4446 1104 4215\n",
      "0224 7742 8300 0266\n",
      "0170 2700 3145 0640\n",
      "2006 2437 8054 1600\n",
      "8142 4055 1776 0026\n",
      "3026 7380 1241 1084\n"
     ]
    }
   ],
   "source": [
    "with open('credit_card.dat','rb') as read_data:\n",
    "    data = read_data.readlines()\n",
    "    for row in data:\n",
    "        if(len(row) > 5):\n",
    "            s1 = row.decode(\"utf-8\")\n",
    "            s1 = s1[0:114]\n",
    "            f = 0;s = 6\n",
    "            list1 = []\n",
    "            txt=\"\"\n",
    "            for i in range(19):\n",
    "                l = f+s\n",
    "                list1.append(s1[f:(f+s)])\n",
    "                f=f+s\n",
    "            for i in range(0,19):\n",
    "                txt = txt + chr(int(list1[i],2))\n",
    "            print(txt)\n",
    "            \n",
    "            \n",
    "            \n",
    "             \n",
    "         "
   ]
  },
  {
   "cell_type": "markdown",
   "metadata": {},
   "source": [
    "5\\. **Optional**: load the remote file:\n",
    "\n",
    "- https://www.dropbox.com/s/aamg1apjhclecka/regression_generated.csv\n",
    "\n",
    "with Pandas and create a scatter plot with all possible combinations of the following features:\n",
    "    \n",
    "  + features_1\n",
    "  + features_2\n",
    "  + features_3"
   ]
  },
  {
   "cell_type": "code",
   "execution_count": null,
   "metadata": {},
   "outputs": [],
   "source": []
  }
 ],
 "metadata": {
  "kernelspec": {
   "display_name": "Python 3",
   "language": "python",
   "name": "python3"
  },
  "language_info": {
   "codemirror_mode": {
    "name": "ipython",
    "version": 3
   },
   "file_extension": ".py",
   "mimetype": "text/x-python",
   "name": "python",
   "nbconvert_exporter": "python",
   "pygments_lexer": "ipython3",
   "version": "3.8.8"
  }
 },
 "nbformat": 4,
 "nbformat_minor": 2
}
