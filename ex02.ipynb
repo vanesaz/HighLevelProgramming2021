{
 "cells": [
  {
   "cell_type": "markdown",
   "metadata": {},
   "source": [
    "1. Write the following expressions using the list comprehension"
   ]
  },
  {
   "cell_type": "code",
   "execution_count": 1,
   "metadata": {},
   "outputs": [
    {
     "name": "stdout",
     "output_type": "stream",
     "text": [
      "[(0, 0), (0, 1), (0, 2), (0, 3), (1, 0), (1, 1), (1, 2), (1, 3), (2, 0), (2, 1), (2, 2), (2, 3)]\n",
      "[1, 9, 25, 49, 81]\n"
     ]
    }
   ],
   "source": [
    "# 1\n",
    "ans = []\n",
    "for i in range(3):\n",
    "    for j in range(4):\n",
    "        ans.append((i, j))\n",
    "print(ans)\n",
    "\n",
    "# 2\n",
    "ans = map(lambda x: x * x, filter(lambda x: x % 2 == 1, range(10)))\n",
    "print(list(ans))"
   ]
  },
  {
   "cell_type": "code",
   "execution_count": 16,
   "metadata": {},
   "outputs": [
    {
     "name": "stdout",
     "output_type": "stream",
     "text": [
      "[[(0, 0), (0, 1), (0, 2), (0, 3), (1, 0), (1, 1), (1, 2), (1, 3), (2, 0), (2, 1), (2, 2), (2, 3)]]\n",
      "[1, 9, 25, 49, 81]\n"
     ]
    }
   ],
   "source": [
    "#1\n",
    "l=[]\n",
    "l1= [(x,y) for x in range(3) for y in range(4)]\n",
    "l.append(l1)\n",
    "print(l)\n",
    "\n",
    "#2\n",
    "l2=[x**2 for x in range(10) if x%2==1]\n",
    "print(l2)"
   ]
  },
  {
   "cell_type": "markdown",
   "metadata": {},
   "source": [
    "2\\. Convert the function $f$ into a function that doesn't use global variables and that does not modify the original list"
   ]
  },
  {
   "cell_type": "code",
   "execution_count": null,
   "metadata": {},
   "outputs": [],
   "source": [
    "x = 5\n",
    "def f(alist):\n",
    "    for i in range(x):\n",
    "         alist.append(i)\n",
    "    return alist\n",
    "\n",
    "alist = [1,2,3]\n",
    "ans = f(alist)\n",
    "print(ans)\n",
    "print(alist) # alist has been changed!"
   ]
  },
  {
   "cell_type": "code",
   "execution_count": null,
   "metadata": {},
   "outputs": [],
   "source": [
    "x1=5\n",
    "def f1(alist1):\n",
    "    y1=[x for x in alist1]\n",
    "    for i in range(x1):\n",
    "        y1.append(i)\n",
    "    alist1=y1    \n",
    "    return alist1\n",
    "alist1= [1,2,3]\n",
    "ans1= f1(alist1)\n",
    "print(ans1)\n",
    "print(alist1)\n",
    "\n"
   ]
  },
  {
   "cell_type": "markdown",
   "metadata": {},
   "source": [
    "3\\. Write a `decorator` hello that makes every wrapped function print “Hello!”, i.e. something like:\n",
    "\n",
    "```python\n",
    "@hello\n",
    "def square(x):\n",
    "    return x*x\n",
    "```\n",
    "\n"
   ]
  },
  {
   "cell_type": "code",
   "execution_count": null,
   "metadata": {},
   "outputs": [],
   "source": [
    "def hello(funct):\n",
    "    def wrapper(*args):\n",
    "        print(\"Hello\")\n",
    "        value=funct(*args)\n",
    "        return value\n",
    "    return wrapper \n",
    "@hello\n",
    "def square(x):\n",
    "    return x*x\n",
    "x=2\n",
    "square(x)"
   ]
  },
  {
   "cell_type": "markdown",
   "metadata": {},
   "source": [
    "4\\. Write the factorial function in two different ways, so that it a) does and b) does not use recursion."
   ]
  },
  {
   "cell_type": "code",
   "execution_count": 34,
   "metadata": {},
   "outputs": [
    {
     "name": "stdout",
     "output_type": "stream",
     "text": [
      "21\n",
      "21\n"
     ]
    }
   ],
   "source": [
    "#find the z-th odd number\n",
    "\n",
    "#a\n",
    "def odd0(z):\n",
    "    z= z*2 -1\n",
    "    return z\n",
    "\n",
    "#b\n",
    "\n",
    "def odd1(z):\n",
    "    if z==1:\n",
    "        return 1\n",
    "    else:\n",
    "        z= odd1(z-1)+2\n",
    "    return z\n",
    "\n",
    "\n",
    "\n",
    "print(odd0(11))\n",
    "print(odd1(11))\n"
   ]
  },
  {
   "cell_type": "markdown",
   "metadata": {},
   "source": [
    "5\\. Use HOFs (zip in particular) to compute the weight of a circle, a disk and a sphere, assuming different radii and different densities:\n",
    "\n",
    "```python\n",
    "densities = {\"Al\" : [0.5, 1, 2], \"Fe\" : [3, 4, 5], \"Pb\" : [15, 20, 30]}\n",
    "radii = [1, 2, 3]\n",
    "```\n",
    "weight= circumference* density\n",
    "where the entries of the dictionary's values are the linear, superficial and volumetric densities of the materials respectively.\n",
    "\n",
    "Subsequently, define a list using a comprehension with three lambda functions that compute the circumference, the area and the volume for a given radius.\n"
   ]
  },
  {
   "cell_type": "code",
   "execution_count": 188,
   "metadata": {},
   "outputs": [
    {
     "name": "stdout",
     "output_type": "stream",
     "text": [
      "7\n",
      "9\n",
      "[(3.141592653589793, 12.566370614359172, 4.71238898038469), (18.84955592153876, 50.26548245743669, 11.780972450961723), (94.24777960769379, 251.32741228718345, 70.68583470577035), (6.283185307179586, 50.26548245743669, 37.69911184307752), (37.69911184307752, 201.06192982974676, 94.24777960769379), (188.49555921538757, 1005.3096491487338, 565.4866776461628), (9.42477796076938, 113.09733552923255, 127.23450247038662), (56.548667764616276, 452.3893421169302, 318.0862561759665), (282.7433388230814, 2261.946710584651, 1908.5175370557993)]\n"
     ]
    }
   ],
   "source": [
    "from math import pi\n",
    "from functools import partial\n",
    "r1=[1,2,3]\n",
    "sum = lambda x, y: x+y\n",
    "print(sum(3, 4))\n",
    "d= {\"Al\" : [0.5, 1, 2], \"Fe\" : [3, 4, 5], \"Pb\" : [15, 20, 30]}\n",
    "x=(list(d.values()))\n",
    "l0= list(zip(x[0], x[1], x[2]))\n",
    "w1= lambda r,d1 :r*pi*2*d1\n",
    "w2= lambda r,d2 :r**2*pi*4*d2\n",
    "w3= lambda r,d3 :r**3*pi*3/4*d3\n",
    "l1= [(w1(r,d1), w2(r,d2), w3(r,d3))  for r in r1 for (d1,d2,d3) in zip(l0[0],l0[1],l0[2])]\n",
    "print(len(l1))\n",
    "print(list(l1))"
   ]
  },
  {
   "cell_type": "markdown",
   "metadata": {},
   "source": []
  },
  {
   "cell_type": "code",
   "execution_count": null,
   "metadata": {},
   "outputs": [],
   "source": [
    "# 6\\. Edit the class defintion to add an instance attribute of `is_hungry = True` to the Dog class. \n",
    "#Then add a method called `eat()` which changes the value of `is_hungry` to `False` when called. \n",
    "#Figure out the best way to instantiate the dog objects and to feed the dogs, e.g. call the `eat()` method for all instances. \n",
    "#Finally, print “My dogs are hungry.” or “My dogs are not hungry.” if all of them have `is_hungry = True` or `False`, \n",
    "#respectively. The final output should look like this:\n",
    "\n",
    "`I have 3 dogs. \n",
    "Tom is 6. \n",
    "Fletcher is 7. \n",
    "Larry is 9. \n",
    "And they're all mammals, of course. \n",
    "My dogs are not hungry.\n",
    "`\n",
    "\n",
    "```python\n",
    "# Parent class\n",
    "class Dog:\n",
    "\n",
    "    \n",
    "    # Class attribute\n",
    "    species = 'mammal'\n",
    "    \n",
    "    # Initializer / Instance attributes\n",
    "    def __init__(self, name, age):\n",
    "        self.name = name\n",
    "        self.age = age\n",
    "        self.is_hungry= True\n",
    "\n",
    "    # instance method\n",
    "    def description(self):\n",
    "        return \"{} is {} years old\".format(self.name, self.age)\n",
    "\n",
    "    # instance method\n",
    "    def speak(self, sound):\n",
    "        return \"{} says {}\".format(self.name, sound)\n",
    "    \n",
    "    def eat(self):\n",
    "        self.is_hungry= False\n",
    "# Child class (inherits from Dog class)\n",
    "class RussellTerrier(Dog):\n",
    "    def run(self, speed):\n",
    "        return \"{} runs {}\".format(self.name, speed)\n",
    "\n",
    "# Child class (inherits from Dog class)\n",
    "class Bulldog(Dog):\n",
    "    def run(self, speed):\n",
    "        return \"{} runs {}\".format(self.name, speed)\n",
    "```\n"
   ]
  },
  {
   "cell_type": "code",
   "execution_count": 7,
   "metadata": {},
   "outputs": [
    {
     "name": "stdout",
     "output_type": "stream",
     "text": [
      "I have 3 dogs\n",
      "Tom is 6 years old\n",
      "Fletcher is 7 years old\n",
      "Larry is 9 years old\n",
      "And they're all mammals, of course.\n",
      "My dogs are not hungry.\n"
     ]
    }
   ],
   "source": [
    "class Dog:\n",
    "\n",
    "    \n",
    "    # Class attribute\n",
    "    species = 'mammal'\n",
    "    \n",
    "    # Initializer / Instance attributes\n",
    "    def __init__(self, name, age):\n",
    "        self.name = name\n",
    "        self.age = age\n",
    "        self.is_hungry= True\n",
    "\n",
    "    # instance method\n",
    "    def description(self):\n",
    "        return \"{} is {} years old\".format(self.name, self.age)\n",
    "\n",
    "    # instance method\n",
    "    def speak(self, sound):\n",
    "        return \"{} says {}\".format(self.name, sound)\n",
    "    \n",
    "    def eat(self):\n",
    "        self.is_hungry= False\n",
    "# Child class (inherits from Dog class)\n",
    "class RussellTerrier(Dog):\n",
    "    def run(self, speed):\n",
    "        return \"{} runs {}\".format(self.name, speed)\n",
    "\n",
    "# Child class (inherits from Dog class)\n",
    "class Bulldog(Dog):\n",
    "    def run(self, speed):\n",
    "        return \"{} runs {}\".format(self.name, speed)\n",
    "\n",
    "Tom= Dog(\"Tom\", 6)\n",
    "Fletcher= Dog(\"Fletcher\", 7)\n",
    "Larry= Dog(\"Larry\", 9)\n",
    "\n",
    "print(\"I have 3 dogs\")\n",
    "print(Tom.description())\n",
    "print(Fletcher.description())\n",
    "print(Larry.description())\n",
    "Tom.eat()\n",
    "Larry.eat()\n",
    "Fletcher.eat()\n",
    "if (Tom.species == 'mammal' and Fletcher.species == 'mammal' and Larry.species == 'mammal'):\n",
    "    print(\"And they're all mammals, of course.\")\n",
    "if not(Tom.is_hungry or Fletcher.is_hungry or Larry.is_hungry):\n",
    "    print(\"My dogs are not hungry.\")\n",
    "else:\n",
    "    print(\"My dogs are hungry.\")\n"
   ]
  },
  {
   "cell_type": "code",
   "execution_count": null,
   "metadata": {},
   "outputs": [],
   "source": []
  }
 ],
 "metadata": {
  "kernelspec": {
   "display_name": "Python 3",
   "language": "python",
   "name": "python3"
  },
  "language_info": {
   "codemirror_mode": {
    "name": "ipython",
    "version": 3
   },
   "file_extension": ".py",
   "mimetype": "text/x-python",
   "name": "python",
   "nbconvert_exporter": "python",
   "pygments_lexer": "ipython3",
   "version": "3.8.8"
  }
 },
 "nbformat": 4,
 "nbformat_minor": 2
}
