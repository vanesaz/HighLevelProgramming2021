{
 "cells": [
  {
   "cell_type": "markdown",
   "metadata": {},
   "source": [
    "1\\. Write a function that converts numbers among the bin, dec, and hex representations (bin<->dec<->hex)"
   ]
  },
  {
   "cell_type": "code",
   "execution_count": 17,
   "metadata": {},
   "outputs": [
    {
     "name": "stdout",
     "output_type": "stream",
     "text": [
      "0b100\n",
      "75\n",
      "0b10001100\n",
      "2\n"
     ]
    }
   ],
   "source": [
    "def conv1(number, original, converted):\n",
    "    if original== 2:\n",
    "        if converted==2:\n",
    "            number= number\n",
    "        if converted==10:\n",
    "            number= int(number,2)\n",
    "        if converted==16:\n",
    "            number= hex(int(number,2))\n",
    "       \n",
    "    if original== 10:\n",
    "        if converted==2:\n",
    "            number= bin(int(number))\n",
    "        if converted== 10:\n",
    "            number=int(number)\n",
    "        if converted==16:\n",
    "            number= hex(int(number))\n",
    "            \n",
    "    if original== 16:\n",
    "        if converted==2:\n",
    "            number= bin(int(number,16))\n",
    "        if converted== 10:\n",
    "            number= int(number,16)\n",
    "        if converted==16:\n",
    "            number= number\n",
    "    return number        \n",
    "            \n",
    "print(conv1(\"4\",10,2))\n",
    "print(conv1(\"4b\",16,10))\n",
    "print(conv1(\"8c\",16,2))\n",
    "print(conv1(\"10\",2,10))\n"
   ]
  },
  {
   "cell_type": "markdown",
   "metadata": {},
   "source": [
    "2\\. Write a function that converts a 32 bit word into a single precision floating point (i.e. interprets the various bits as sign, mantissa and exponent) and check its validity."
   ]
  },
  {
   "cell_type": "code",
   "execution_count": 14,
   "metadata": {},
   "outputs": [
    {
     "name": "stdout",
     "output_type": "stream",
     "text": [
      "193\n",
      "1.000494122505188\n",
      "1.1920928955078125e-07\n",
      "-7.382343610041526e+19\n"
     ]
    }
   ],
   "source": [
    "def con2(word):\n",
    "    s=int(word[0])\n",
    "    if s==1:\n",
    "        s=-1\n",
    "    else:\n",
    "        s=1\n",
    "    e1=0\n",
    "    mantissa=1\n",
    "    for i in range(1,9):\n",
    "        e1=e1 + 2**(8-i)*int(word[i])\n",
    "    \n",
    "    print(e1)    \n",
    "    for i in range(9,32):\n",
    "        mantissa=mantissa+ 2**(8-i)*int(word[i])\n",
    "    print(mantissa)\n",
    "    \n",
    "    x= 2**( e1-127)*s*mantissa\n",
    "    print (2**(-23))\n",
    "    return x\n",
    "        \n",
    "print(con2(\"11100000100000000001000000110001\") )   \n",
    "#& (0<e1<254)"
   ]
  },
  {
   "cell_type": "markdown",
   "metadata": {},
   "source": [
    "3\\. Write a program to determine the underflow and overflow limits (within a factor of 2) for python on your computer. \n",
    "\n",
    "**Tip**: define two variables initialized to 1 and halve/double them for a sufficient amount of times to exceed the under/over-flow limits  "
   ]
  },
  {
   "cell_type": "code",
   "execution_count": 104,
   "metadata": {},
   "outputs": [
    {
     "name": "stdout",
     "output_type": "stream",
     "text": [
      "stop\n",
      "final 1074 1023 5e-324\n"
     ]
    }
   ],
   "source": [
    "import math\n",
    "under=1\n",
    "over=1\n",
    "n=0\n",
    "N=0\n",
    "while under/2 != 0.0:\n",
    "    n=n+1\n",
    "    under= under/2\n",
    "try:\n",
    "    while math.isinf(over*2)== False:\n",
    "        N=N+1\n",
    "        over=over*2\n",
    "except:\n",
    "    print(\"stop\")\n",
    "\n",
    "print(\"final\", n, N, under)  "
   ]
  },
  {
   "cell_type": "markdown",
   "metadata": {},
   "source": [
    "4\\. Write a program to determine the machine precision\n",
    "\n",
    "**Tip**: define a new variable by adding an increasingly smaller value (in the same way as the previous problem) and check when the addition starts to have no effect on the number"
   ]
  },
  {
   "cell_type": "code",
   "execution_count": 109,
   "metadata": {},
   "outputs": [
    {
     "name": "stdout",
     "output_type": "stream",
     "text": [
      "8.881784197001253e-17\n"
     ]
    }
   ],
   "source": [
    "a=1\n",
    "b=0.2\n",
    "while a+ b/2 !=a+b:\n",
    "    b=b/2\n",
    "    a=a+b\n",
    "print(b)"
   ]
  },
  {
   "cell_type": "markdown",
   "metadata": {},
   "source": [
    "5\\. Write a function that takes in input three parameters $a$, $b$ and $c$ and prints out the two solutions to the quadratic equation $ax^2+bx+c=0$ using the standard formula:\n",
    "$$\n",
    "x=\\frac{-b\\pm\\sqrt{b^2-4ac}}{2a}\n",
    "$$\n",
    "\n",
    "(a) use the program to compute the solution for $a=0.001$, $b=1000$ and $c=0.001$\n",
    "\n",
    "(b) re-express the standard solution formula by multiplying the numerator and the denominator by $-b\\mp\\sqrt{b^2-4ac}$ and again find the solution for $a=0.001$, $b=1000$ and $c=0.001$. How does it compare with what has been previously obtained, and why?\n",
    "\n",
    "(c) write a function that computes the roots of a quadratic equation accurately in all cases"
   ]
  },
  {
   "cell_type": "code",
   "execution_count": 269,
   "metadata": {},
   "outputs": [
    {
     "name": "stdout",
     "output_type": "stream",
     "text": [
      "2 solutions\n",
      "(-9.999894245993346e-07, -999999.999999)\n",
      "2 solutions\n",
      "(-1.000000000001e-06, -1000010.5755125057)\n",
      "2 solutions\n",
      "(-1.0001031051059133e-06, -999999.9999989995)\n"
     ]
    }
   ],
   "source": [
    "from math import sqrt\n",
    "#a\n",
    "def e1(a,b,c):\n",
    "    d= b**2 - 4*a*c\n",
    "    if d==0:\n",
    "        print(\"only 1 solution\")\n",
    "        x1=x2= -b/(2*a)\n",
    "        return x1\n",
    "    elif d<0:\n",
    "        print(\"no solution\")\n",
    "        return \n",
    "    else:\n",
    "        print(\"2 solutions\")\n",
    "        x1= (-b+ sqrt(d))/(2*a)\n",
    "        x2= (-b- sqrt(d))/(2*a)\n",
    "        return x1,x2\n",
    "print(e1(0.001, 1000,0.001))\n",
    "\n",
    "\n",
    "\n",
    "#b\n",
    "def e2(a,b,c):\n",
    "    d= b**2 - 4*a*c\n",
    "    if d==0:\n",
    "        print(\"only 1 solution\")\n",
    "        x1=x2= -b/(2*a)\n",
    "        return x1\n",
    "    elif d<0.0:\n",
    "        print(\"no solution\")\n",
    "        return \n",
    "    else:\n",
    "        print(\"2 solutions\")\n",
    "        x1 =(2*c)/(-b - sqrt(d))\n",
    "        x2= (2*c)/(-b + sqrt(d))\n",
    "        return x1,x2\n",
    "print(e2(0.001, 1000,0.001))  \n",
    "    \n",
    "    \n",
    "#c    \n",
    "def e3(a,b,c):\n",
    "    i=0\n",
    "    a=float(a)\n",
    "    b=float(b)\n",
    "    c=float(c)\n",
    "    d= b**2 - 4*a*c\n",
    "    d1=sqrt(d)\n",
    "    a1=a\n",
    "    b1=b\n",
    "    d2=sqrt(d)\n",
    "    a2=a\n",
    "    b2=b\n",
    "    \n",
    "    while abs(-b1*10 + d1*10 )< (10**306) and abs(-b1*10) <(10**306) and abs(-d1*2) <(10**306) and abs(20*a1) < (10**306) and abs(a1*10)< (10**306) :\n",
    "        b1=b1*10\n",
    "        d1= d1*10\n",
    "        a1=a1*10\n",
    "       \n",
    "    while abs(-b2*10 + d2*10 )< (10**306) and abs(-b2*10) <(10**306) and abs(-d2*2) <(10**306) and abs(20*a2) < (10**306) and abs(a2*10)< (10**306) :\n",
    "        b2=b2*10\n",
    "        d2=d2*10\n",
    "        a2=a2*10  \n",
    "    \n",
    "  \n",
    "    if d==0:\n",
    "        print(\"only 1 solution\")\n",
    "        m= -b+ sqrt(d)\n",
    "        x1=x2= m/(2*a)\n",
    "        return x1\n",
    "    elif d<0:\n",
    "        print(\"no solution\")\n",
    "        return \n",
    "    else:\n",
    "        print(\"2 solutions\")\n",
    "        m1= (-b1+ d1)\n",
    "        m2= (-b2-d2)\n",
    "        n1=2*a1\n",
    "        n2=2*a2\n",
    "        x1 =m1/n1\n",
    "        x2=m2/n2\n",
    "        return x1,x2\n",
    "    \n",
    "print(e3(0.001, 1000,0.001))        \n",
    "  \n",
    "# in the first solution the result is approximately right\n",
    "#in the second solution the result is better in x1 but worse in x2\n",
    "#in the third one I have multiplied numerator and the denominator with a very large number to make the less significant bit more sifnificant\n",
    "#so the small differences between numbers will be considerated more"
   ]
  },
  {
   "cell_type": "markdown",
   "metadata": {},
   "source": [
    "6\\. Write a program that implements the function $f(x)=x(x−1)$\n",
    "\n",
    "(a) Calculate the derivative of the function at the point $x = 1$ using the derivative definition:\n",
    "\n",
    "$$\n",
    "\\frac{{\\rm d}f}{{\\rm d}x} = \\lim_{\\delta\\to0} \\frac{f(x+\\delta)-f(x)}{\\delta}\n",
    "$$\n",
    "\n",
    "with $\\delta = 10^{−2}$. Calculate the true value of the same derivative analytically and compare it with the answer your program gives. The two will not agree perfectly. Why?\n",
    "\n",
    "(b) Repeat the calculation for $\\delta = 10^{−4}, 10^{−6}, 10^{−8}, 10^{−10}, 10^{−12}$ and $10^{−14}$. How does the accuracy scales with $\\delta$?"
   ]
  },
  {
   "cell_type": "code",
   "execution_count": 281,
   "metadata": {},
   "outputs": [
    {
     "name": "stdout",
     "output_type": "stream",
     "text": [
      "1.0000999999998899\n",
      "1.0000009999177333\n",
      "1.0000000039225287\n",
      "1.000000082840371\n",
      "1.0000889005833413\n",
      "0.9992007221626509\n"
     ]
    }
   ],
   "source": [
    "def e1(x):\n",
    "    y=x*(x-1)\n",
    "    return y\n",
    "def derivate(funct,x,delta):\n",
    "    d= (funct(x + delta)- funct(x))/delta\n",
    "    return d\n",
    "\n",
    "derivate(e1,1,10**(-2))\n",
    "\n",
    "#analytically the value of derivative of e1 for x=1 is (2x-1)(1)= 1, so there is a difference between them\n",
    "\n",
    "#b\n",
    "\n",
    "print(derivate(e1,1,10**(-4)))\n",
    "print(derivate(e1,1,10**(-6)))\n",
    "print(derivate(e1,1,10**(-8)))\n",
    "print(derivate(e1,1,10**(-10)))\n",
    "print(derivate(e1,1,10**(-12)))\n",
    "print(derivate(e1,1,10**(-14)))\n",
    "\n",
    "#the result becomes more accurate with smaller values of delta    \n",
    "    "
   ]
  },
  {
   "cell_type": "markdown",
   "metadata": {},
   "source": [
    "7\\. Consider the integral of the semicircle of radius 1:\n",
    "$$\n",
    "I=\\int_{-1}^{1} \\sqrt(1-x^2) {\\rm d}x\n",
    "$$\n",
    "which is known to be $I=\\frac{\\pi}{2}=1.57079632679...$.\n",
    "\n",
    "Alternatively we can use the Riemann definition of the integral:\n",
    "$$\n",
    "I=\\lim_{N\\to\\infty} \\sum_{k=1}^{N} h y_k \n",
    "$$\n",
    "\n",
    "with $h=2/N$ the width of each of the $N$ slices the domain is divided into and where\n",
    "$y_k$ is the value of the function at the $k-$th slice.\n",
    "\n",
    "(a) Write a program to compute the integral with $N=100$. How does the result compare to the true value?\n",
    "\n",
    "(b) How much can $N$ be increased if the computation needs to be run in less than a second? What is the gain in running it for 1 minute? \n"
   ]
  },
  {
   "cell_type": "code",
   "execution_count": 12,
   "metadata": {},
   "outputs": [
    {
     "name": "stdout",
     "output_type": "stream",
     "text": [
      "1.5707963267922795\n",
      "0.0016620712456461018\n",
      "6.463817834854126\n",
      "13.175856351852417\n",
      "20.54146456718445\n",
      "25.190630435943604\n",
      "31.436777353286743\n",
      "38.09939742088318\n",
      "46.62829613685608\n",
      "51.651639223098755\n",
      "60.60273027420044\n",
      "60.60273027420044 90000000\n",
      "1.5707963267922795\n"
     ]
    }
   ],
   "source": [
    "#a\n",
    "from math import pi, sqrt\n",
    "def e1(x):\n",
    "    y= sqrt(1 - x**2)\n",
    "    return y\n",
    "\n",
    "def riemanndef(m,M,N, funct):\n",
    "    delta= (M-m)/N\n",
    "#delta= 0.02 # delta= 1-(-1)/100\n",
    "    sum=0\n",
    "#xk= -1 + delta *k\n",
    "    for i in range (1,N+1):\n",
    "        xk= -1 + delta*i\n",
    "        yk= funct(xk)\n",
    "        hyk= yk*delta\n",
    "        sum= sum+hyk\n",
    "    return sum\n",
    "print(riemanndef(-1,1,100,e1))  \n",
    "print((pi/2 )- riemanndef(-1,1,100,e1))\n",
    "#the difference between true value and the result is 0.0016620712456461018\n",
    "#b\n",
    "end=0\n",
    "start=0\n",
    "i=0\n",
    "import time\n",
    "while end-start< 60:\n",
    "    i=i+10000000\n",
    "    start = time.time()\n",
    "    riemanndef(-1,1,i,e1)\n",
    "    end = time.time()\n",
    "    print(end-start)\n",
    "print(end-start,i)    \n",
    "print(riemanndef(-1,1,90000000,e1))\n",
    "#for N=90000000 the needed time is around 60 seconds. The vaule of the function is very close to pi/2"
   ]
  },
  {
   "cell_type": "code",
   "execution_count": null,
   "metadata": {},
   "outputs": [],
   "source": []
  }
 ],
 "metadata": {
  "kernelspec": {
   "display_name": "Python 3",
   "language": "python",
   "name": "python3"
  },
  "language_info": {
   "codemirror_mode": {
    "name": "ipython",
    "version": 3
   },
   "file_extension": ".py",
   "mimetype": "text/x-python",
   "name": "python",
   "nbconvert_exporter": "python",
   "pygments_lexer": "ipython3",
   "version": "3.8.8"
  }
 },
 "nbformat": 4,
 "nbformat_minor": 2
}
